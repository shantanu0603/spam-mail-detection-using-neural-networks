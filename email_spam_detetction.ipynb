{
  "nbformat": 4,
  "nbformat_minor": 0,
  "metadata": {
    "colab": {
      "provenance": []
    },
    "kernelspec": {
      "name": "python3",
      "display_name": "Python 3"
    },
    "language_info": {
      "name": "python"
    }
  },
  "cells": [
    {
      "cell_type": "code",
      "execution_count": 17,
      "metadata": {
        "colab": {
          "base_uri": "https://localhost:8080/"
        },
        "id": "tHNb1abdCFfC",
        "outputId": "76233332-a506-4038-84ee-2f24ce2a28ec"
      },
      "outputs": [
        {
          "output_type": "stream",
          "name": "stdout",
          "text": [
            "Enter the email text: WINNER!! As a valued network customer you have been selected to receivea �900 prize reward! To claim call 09061701461. Claim code KL341. Valid 12 hours only.\n",
            "Prediction: Spam\n"
          ]
        }
      ],
      "source": [
        "import pandas as pd\n",
        "from sklearn.feature_extraction.text import TfidfVectorizer\n",
        "from sklearn.naive_bayes import MultinomialNB\n",
        "import re\n",
        "\n",
        "# Step 1: Data Collection\n",
        "# Load the dataset containing labeled emails (spam or not spam)\n",
        "data = pd.read_csv(\"/content/spam.csv\", encoding='latin1')\n",
        "\n",
        "# Step 2: Data Preprocessing\n",
        "# Preprocess the text data\n",
        "# (Tokenization, removing stopwords, vectorization)\n",
        "vectorizer = TfidfVectorizer(stop_words='english')\n",
        "X = vectorizer.fit_transform(data['v2'])\n",
        "y = data['v1']\n",
        "\n",
        "# Step 3: Model Training\n",
        "# Choose and train the model (Multinomial Naive Bayes)\n",
        "model = MultinomialNB()\n",
        "model.fit(X, y)\n",
        "\n",
        "def preprocess_email(email):\n",
        "    # Preprocess the email similar to the training data\n",
        "    email = re.sub(r'\\b[\\w\\-.]+?@\\w+?\\.\\w{2,4}\\b', 'emailaddr', email)\n",
        "    email = re.sub(r'(http[s]?\\S+)|(\\w+\\.[A-Za-z]{2,4}\\S*)', 'httpaddr', email)\n",
        "    email = re.sub(r'\\b\\d+\\b', 'number', email)\n",
        "    email = re.sub(r'£|\\$', 'moneysymb', email)\n",
        "    email = re.sub(r'\\b(\\+\\d{1,2}\\s)?\\d?[\\-(.]?\\d{3}\\)?[\\s.-]?\\d{3}[\\s.-]?\\d{4}\\b', 'phonenumbr', email)\n",
        "    email = re.sub(r'\\d+(\\.\\d+)?', 'numbr', email)\n",
        "    email = re.sub(r'[^\\w\\d\\s]', ' ', email)\n",
        "    email = re.sub(r'\\s+', ' ', email)\n",
        "    email = email.strip().lower()\n",
        "    return email\n",
        "\n",
        "def predict_spam(email):\n",
        "    # Preprocess the input email\n",
        "    processed_email = preprocess_email(email)\n",
        "    # Vectorize the email\n",
        "    email_vector = vectorizer.transform([processed_email])\n",
        "    # Predict using the trained model\n",
        "    prediction = model.predict(email_vector)\n",
        "    if prediction[0] == 'ham':\n",
        "        return \"Not Spam\"\n",
        "    else:\n",
        "        return \"Spam\"\n",
        "\n",
        "# Accept input from the user\n",
        "user_input_email = input(\"Enter the email text: \")\n",
        "\n",
        "# Predict whether the input email is spam or not\n",
        "prediction = predict_spam(user_input_email)\n",
        "print(\"Prediction:\", prediction)\n"
      ]
    }
  ]
}